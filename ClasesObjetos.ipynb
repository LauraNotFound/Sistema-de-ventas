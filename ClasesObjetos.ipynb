{
  "nbformat": 4,
  "nbformat_minor": 0,
  "metadata": {
    "colab": {
      "provenance": [],
      "authorship_tag": "ABX9TyO/Kizwtdy6qOC3+m/CRsyu",
      "include_colab_link": true
    },
    "kernelspec": {
      "name": "python3",
      "display_name": "Python 3"
    },
    "language_info": {
      "name": "python"
    }
  },
  "cells": [
    {
      "cell_type": "markdown",
      "metadata": {
        "id": "view-in-github",
        "colab_type": "text"
      },
      "source": [
        "<a href=\"https://colab.research.google.com/github/LauraNotFound/Sistema-de-ventas/blob/main/ClasesObjetos.ipynb\" target=\"_parent\"><img src=\"https://colab.research.google.com/assets/colab-badge.svg\" alt=\"Open In Colab\"/></a>"
      ]
    },
    {
      "cell_type": "code",
      "execution_count": null,
      "metadata": {
        "id": "TT79_1UZgKTJ",
        "colab": {
          "base_uri": "https://localhost:8080/"
        },
        "outputId": "80bdccfa-3779-47cc-b0ff-a0c354860e1b"
      },
      "outputs": [
        {
          "output_type": "stream",
          "name": "stdout",
          "text": [
            "mammal\n",
            "I'm a mammal\n",
            "I'm a dog\n"
          ]
        }
      ],
      "source": [
        "#class ClassName:\n",
        "class Dog:\n",
        "  atrr1 = \"mammal\"\n",
        "  atrr2 = \"dog\"\n",
        "\n",
        "  def fun(self):\n",
        "    print(\"I'm a\", self.atrr1)\n",
        "    print(\"I'm a\", self.atrr2)\n",
        "\n",
        "#obj = ClassName()\n",
        "Rodger = Dog()\n",
        "#print(obj.atrr)\n",
        "print(Rodger.atrr1)\n",
        "Rodger.fun()\n"
      ]
    },
    {
      "cell_type": "code",
      "source": [
        "#class ClassName\n",
        "class GFG:\n",
        "  #Constructor\n",
        "  def __init__(self, name, company):\n",
        "    self.name = name\n",
        "    self.company = company\n",
        "\n",
        "  #Método mostrar\n",
        "  def show(self):\n",
        "    print(\"Hello my name is \" + self.name + \" and i\" +\n",
        "          \" work in \" + self.company + \".\")\n",
        "\n",
        "#obj = ClassName(valueAtribute1, valueAtribute2)\n",
        "obj = GFG(\"John\", \"GeeksForGeeks\")\n",
        "#myobject.method(arg1, arg2)\n",
        "obj.show()"
      ],
      "metadata": {
        "colab": {
          "base_uri": "https://localhost:8080/"
        },
        "id": "VXd7ChOPcUTZ",
        "outputId": "8d28ebed-e61c-456f-cc1a-142be7717716"
      },
      "execution_count": null,
      "outputs": [
        {
          "output_type": "stream",
          "name": "stdout",
          "text": [
            "Hello my name is John and i work in GeeksForGeeks.\n"
          ]
        }
      ]
    },
    {
      "cell_type": "code",
      "source": [
        "class Person:\n",
        "  #Inicializar variables\n",
        "  def __init__(self, name):\n",
        "    self.name = name\n",
        "\n",
        "  #Método say_hi\n",
        "  def say_hi(self):\n",
        "    print('Hello, my name is', self.name)\n",
        "\n",
        "p = Person('Nikhil')\n",
        "p.say_hi()"
      ],
      "metadata": {
        "id": "BpU1skv9cYpg",
        "colab": {
          "base_uri": "https://localhost:8080/"
        },
        "outputId": "a8e0f068-ad9c-4401-91bf-42edf0bf37ea"
      },
      "execution_count": null,
      "outputs": [
        {
          "output_type": "stream",
          "name": "stdout",
          "text": [
            "Hello, my name is Nikhil\n"
          ]
        }
      ]
    },
    {
      "cell_type": "code",
      "source": [
        "class GFG:\n",
        "  def __init__(self, name, company):\n",
        "    self.name = name\n",
        "    self.company = company\n",
        "\n",
        "  def __str__(self):\n",
        "    return f\"My name is {self.name} and i work in {self.company}.\"\n",
        "\n",
        "my_obj = GFG(\"John\", \"GeeksForGeeks\")\n",
        "print(my_obj)"
      ],
      "metadata": {
        "id": "g6DML5l6Rhsq"
      },
      "execution_count": null,
      "outputs": []
    },
    {
      "cell_type": "code",
      "source": [
        "class Dog:\n",
        "  animal = 'dog'\n",
        "\n",
        "  def __init__(self, breed, color):\n",
        "    self.breed = breed\n",
        "    self.color = color\n",
        "\n",
        "Rodger = Dog(\"Pug\", \"brown\")\n",
        "Buzo = Dog(\"Bulldog\", \"black\")\n",
        "\n",
        "print('Rodger details')\n",
        "print('Rodger is a ', Rodger.animal)\n",
        "print('Breed: ', Rodger.breed)\n",
        "print('Color: ', Rodger.color)\n",
        "\n",
        "print('\\nBuzo details: ')\n",
        "print('Buzo is a: ', Buzo.animal)\n",
        "print('Breed: ', Buzo.breed)\n",
        "print('Color: ', Buzo.color)\n",
        "\n",
        "print(\"\\nAccesing class variable using class name\")\n",
        "print(Dog.animal)"
      ],
      "metadata": {
        "colab": {
          "base_uri": "https://localhost:8080/"
        },
        "id": "KzvL6uPsTFQ-",
        "outputId": "c5368429-d0bb-47b7-c214-4a7a7256feca"
      },
      "execution_count": null,
      "outputs": [
        {
          "output_type": "stream",
          "name": "stdout",
          "text": [
            "Rodger details\n",
            "Rodger is a  dog\n",
            "Breed:  Pug\n",
            "Color:  brown\n",
            "\n",
            "Buzo details: \n",
            "Buzo is a:  dog\n",
            "Breed:  Bulldog\n",
            "Color:  black\n",
            "\n",
            "Accesing class variable using class name\n",
            "dog\n"
          ]
        }
      ]
    },
    {
      "cell_type": "code",
      "source": [
        "class Dog:\n",
        "  animal = 'dog'\n",
        "\n",
        "  def __init__(self, breed):\n",
        "    self.breed = breed\n",
        "\n",
        "  def setColor(self, color):\n",
        "    self.color = color\n",
        "\n",
        "  def getColor(self):\n",
        "    return self.color\n",
        "\n",
        "color = input(\"Ingrese el color: \")\n",
        "Rodger.setColor(color)\n",
        "print(f\"My animal is a {Rodger.animal}, your color is {Rodger.getColor()}\")"
      ],
      "metadata": {
        "colab": {
          "base_uri": "https://localhost:8080/"
        },
        "id": "HHtKCcvNTF0q",
        "outputId": "5138763c-9de1-4440-87e7-5fa24537347f"
      },
      "execution_count": null,
      "outputs": [
        {
          "output_type": "stream",
          "name": "stdout",
          "text": [
            "Ingrese el color: white\n",
            "My animal is a dog, your color is white\n"
          ]
        }
      ]
    },
    {
      "cell_type": "code",
      "source": [
        "class Usuario:\n",
        "  def __init__(self, username, password, rol):\n",
        "    self.username = username\n",
        "    self.password = password\n",
        "    self.rol = rol\n",
        "\n",
        "class Producto:\n",
        "  def __init__(self, id, nombre, precio, stock):\n",
        "    self.id = id\n",
        "    self.nombre = nombre\n",
        "    self.precio = precio\n",
        "    self.stock = stock\n",
        "\n",
        "class Ventas:\n",
        "  def __init__(self):\n",
        "    self.ventas = []\n",
        "\n",
        "  def realizar_venta(self, producto, cantidad):\n",
        "    if producto.stock >= cantidad:\n",
        "      producto.stock -= cantidad\n",
        "      self.ventas.append({\"Producto\": producto.nombre, \"\\nCantidad\": cantidad, \"\\nTotal\": cantidad*producto.precio})\n",
        "      return True\n",
        "    else:\n",
        "      print(\"No hay suficiente stock.\")\n",
        "      return False\n",
        "\n"
      ],
      "metadata": {
        "id": "jgrUPeDJaPJX"
      },
      "execution_count": null,
      "outputs": []
    },
    {
      "cell_type": "code",
      "source": [],
      "metadata": {
        "id": "3Er4XNNLTF4G"
      },
      "execution_count": null,
      "outputs": []
    }
  ]
}