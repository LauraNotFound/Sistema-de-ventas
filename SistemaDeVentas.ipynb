{
  "nbformat": 4,
  "nbformat_minor": 0,
  "metadata": {
    "colab": {
      "provenance": [],
      "include_colab_link": true
    },
    "kernelspec": {
      "name": "python3",
      "display_name": "Python 3"
    },
    "language_info": {
      "name": "python"
    }
  },
  "cells": [
    {
      "cell_type": "markdown",
      "metadata": {
        "id": "view-in-github",
        "colab_type": "text"
      },
      "source": [
        "<a href=\"https://colab.research.google.com/github/LauraNotFound/Sistema-de-ventas/blob/main/SistemaDeVentas.ipynb\" target=\"_parent\"><img src=\"https://colab.research.google.com/assets/colab-badge.svg\" alt=\"Open In Colab\"/></a>"
      ]
    },
    {
      "cell_type": "code",
      "source": [
        "class Usuario:\n",
        "  def __init__(self, username, password, rol):\n",
        "    self.username = username\n",
        "    self.password = password\n",
        "    self.rol = rol\n",
        "\n",
        "class Producto:\n",
        "  def __init__(self, id, nombre, precio, stock):\n",
        "    self.id = id\n",
        "    self.nombre = nombre\n",
        "    self.precio = precio\n",
        "    self.stock = stock\n",
        "\n",
        "class Ventas:\n",
        "  def __init__(self):\n",
        "    self.ventas = []\n",
        "\n",
        "  def realizar_venta(self, producto, cantidad):\n",
        "    if producto.stock >= cantidad:\n",
        "      producto.stock -= cantidad\n",
        "      self.ventas.append({\"Producto\": producto.nombre, \"\\nCantidad\": cantidad, \"\\nTotal\": cantidad*producto.precio})\n",
        "      return True\n",
        "    else:\n",
        "      print(\"No hay suficiente stock.\")\n",
        "      return False\n",
        "\n"
      ],
      "metadata": {
        "id": "jgrUPeDJaPJX"
      },
      "execution_count": null,
      "outputs": []
    },
    {
      "cell_type": "code",
      "source": [],
      "metadata": {
        "id": "3Er4XNNLTF4G"
      },
      "execution_count": null,
      "outputs": []
    }
  ]
}